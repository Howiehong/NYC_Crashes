{
 "cells": [
  {
   "cell_type": "code",
   "execution_count": null,
   "id": "1d048f1c",
   "metadata": {},
   "outputs": [],
   "source": [
    "import pandas as pd\n",
    "import sqlite3\n",
    "\n",
    "# Load the data from CSV\n",
    "data = pd.read_csv('C:/Users/howar/Downloads/Motor_Vehicle_Collisions_-_Crashes.csv', low_memory=False)\n",
    "\n",
    "# Fill in missing values for each column\n",
    "data['CRASH DATE'].fillna(method='ffill', inplace=True)\n",
    "data['CRASH TIME'].fillna(method='ffill', inplace=True)\n",
    "data['BOROUGH'].fillna(value='Unknown', inplace=True)\n",
    "data['ZIP CODE'].fillna(value='Unknown', inplace=True)\n",
    "data['LATITUDE'].dropna\n",
    "data['LONGITUDE'].dropna\n",
    "data['LOCATION'].fillna(value='Unknown', inplace=True)\n",
    "data['ON STREET NAME'].fillna(value='Unknown', inplace=True)\n",
    "data['CROSS STREET NAME'].fillna(value='Unknown', inplace=True)\n",
    "data['OFF STREET NAME'].fillna(value='Unknown', inplace=True)\n",
    "data['NUMBER OF PERSONS INJURED'].fillna(value=0, inplace=True)\n",
    "data['NUMBER OF PERSONS KILLED'].fillna(value=0, inplace=True)\n",
    "data['NUMBER OF PEDESTRIANS INJURED'].fillna(value=0, inplace=True)\n",
    "data['NUMBER OF PEDESTRIANS KILLED'].fillna(value=0, inplace=True)\n",
    "data['NUMBER OF CYCLIST INJURED'].fillna(value=0, inplace=True)\n",
    "data['NUMBER OF CYCLIST KILLED'].fillna(value=0, inplace=True)\n",
    "data['NUMBER OF MOTORIST INJURED'].fillna(value=0, inplace=True)\n",
    "data['NUMBER OF MOTORIST KILLED'].fillna(value=0, inplace=True)\n",
    "data['CONTRIBUTING FACTOR VEHICLE 1'].fillna(value='Unspecified', inplace=True)\n",
    "data['CONTRIBUTING FACTOR VEHICLE 2'].fillna(value='Unspecified', inplace=True)\n",
    "data['CONTRIBUTING FACTOR VEHICLE 3'].fillna(value='Unspecified', inplace=True)\n",
    "data['CONTRIBUTING FACTOR VEHICLE 4'].fillna(value='Unspecified', inplace=True)\n",
    "data['CONTRIBUTING FACTOR VEHICLE 5'].fillna(value='Unspecified', inplace=True)\n",
    "data['VEHICLE TYPE CODE 1'].fillna(value='Unspecified', inplace=True)\n",
    "data['VEHICLE TYPE CODE 2'].fillna(value='Unspecified', inplace=True)\n",
    "data['VEHICLE TYPE CODE 3'].fillna(value='Unspecified', inplace=True)\n",
    "data['VEHICLE TYPE CODE 4'].fillna(value='Unspecified', inplace=True)\n",
    "data['VEHICLE TYPE CODE 5'].fillna(value='Unspecified', inplace=True)\n",
    "\n",
    "# Create a connection to the crashes.db SQLite database\n",
    "conn = sqlite3.connect('crashes.db')\n",
    "\n",
    "# Write the cleaned data to a new table in the database\n",
    "data.to_sql(name='crashes', con=conn, if_exists='replace', index=False)\n",
    "\n",
    "# Close the database connection\n",
    "conn.close()\n"
   ]
  },
  {
   "cell_type": "code",
   "execution_count": null,
   "id": "4b07729d",
   "metadata": {},
   "outputs": [],
   "source": []
  }
 ],
 "metadata": {
  "kernelspec": {
   "display_name": "Python 3 (ipykernel)",
   "language": "python",
   "name": "python3"
  },
  "language_info": {
   "codemirror_mode": {
    "name": "ipython",
    "version": 3
   },
   "file_extension": ".py",
   "mimetype": "text/x-python",
   "name": "python",
   "nbconvert_exporter": "python",
   "pygments_lexer": "ipython3",
   "version": "3.9.13"
  }
 },
 "nbformat": 4,
 "nbformat_minor": 5
}
