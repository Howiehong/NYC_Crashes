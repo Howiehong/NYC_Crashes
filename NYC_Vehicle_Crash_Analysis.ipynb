{
 "cells": [
  {
   "cell_type": "markdown",
   "id": "8cf39c9c-f2f0-4a40-aed5-98525ca67b09",
   "metadata": {},
   "source": [
    "# NY Motor Vehicle Collisions – Exploratory Data Analysis  \n",
    "In this notebook, we analyze New York’s Vehicular crash data available at https://data.cityofnewyork.us/Public-Safety/Motor-Vehicle-Collisions-Crashes/h9gi-nx95\n",
    "\n",
    "\n",
    "The data contains information from all police reported motor vehicle collisions in NYC. The information for this dataset is collated from the police report, called MV104-AN, which is required to be filled out for collisions where someone is injured or killed, or where there is at least $1000 worth of damage.\n",
    "\n",
    "Data is available from 2012-07-01 onwards, however for this analysis, we will limit ourselves to the period up to 2023-08-15, which is when the data was downloaded.\n",
    "\n",
    "We find that this data contains over 2 million observations, which allows us to explore several aspects of vehicle crashes in NY's boroughs.\n",
    "\n",
    "The data dictionary for the data is also available at the URL above.\n",
    "\n",
    "First, we perform unstructured exploration of the data, and then try to answer the following questions:\n",
    "\n",
    "- We look for which borough has had the maximum number of crashes reported since 2012.\n",
    "\n",
    "- We relate the number of crashes to to the borough's population to find out which borough has the maximum number of crashes for every 100,000 people. Even though the data does not have this information, we can combine the crash data with the population estimates for the boroughs also available from the City of New York's website (https://data.cityofnewyork.us/City-Government/New-York-City-Population-by-Borough-1950-2040/xywu-7bv9)\n",
    "\n",
    "| Borough | Population |\n",
    "| --- | --- |\n",
    "| Bronx | 1446788 |\n",
    "| Brooklyn | 2648452 |\n",
    "| Manhattan | 1638281 |\n",
    "| Queens | 2330295 |\n",
    "| Staten Island | 487155 |  \n",
    "\n",
    "  \n",
    "- We look for the leading cause of crashes\n",
    "\n",
    "- We also look for the top-3 causes of crashes, and try to calculate what proportion of all crashes are caused by these top-3 causes.\n",
    "\n",
    "- We then look to some of the more serious implications of crashes by examining how many accidents involved at least one fatality.\n",
    "\n",
    "- We then compute, on average, out of every 1000 accidents, how many have resulted in at least one person dead.\n",
    "\n",
    "- We also look for missing data and try to compute the proportion of accidents in the data that do not have a Borough code.\n",
    "\n",
    "- The fields 'VEHICLE TYPE CODE 1' and 'VEHICLE TYPE CODE 2' represent the first two vehicles involved in the accident.  We look for which combinations of vehicles have the most number of accidents.\n"
   ]
  },
  {
   "cell_type": "code",
   "execution_count": 1,
   "id": "e90154cc-c88a-4fe4-8aa2-f24d9a27ffac",
   "metadata": {
    "tags": []
   },
   "outputs": [],
   "source": [
    "import pandas as pd\n",
    "import numpy as np\n",
    "import seaborn as sns\n",
    "import os\n",
    "import matplotlib.pyplot as plt\n",
    "import phik\n",
    "from IPython.display import Markdown as md"
   ]
  },
  {
   "cell_type": "code",
   "execution_count": 2,
   "id": "aa8a1971-98b8-41ff-801d-eb9da4758bb6",
   "metadata": {
    "tags": []
   },
   "outputs": [
    {
     "data": {
      "text/html": [
       "<div>\n",
       "<style scoped>\n",
       "    .dataframe tbody tr th:only-of-type {\n",
       "        vertical-align: middle;\n",
       "    }\n",
       "\n",
       "    .dataframe tbody tr th {\n",
       "        vertical-align: top;\n",
       "    }\n",
       "\n",
       "    .dataframe thead th {\n",
       "        text-align: right;\n",
       "    }\n",
       "</style>\n",
       "<table border=\"1\" class=\"dataframe\">\n",
       "  <thead>\n",
       "    <tr style=\"text-align: right;\">\n",
       "      <th></th>\n",
       "      <th>CRASH DATE_CRASH TIME</th>\n",
       "      <th>BOROUGH</th>\n",
       "      <th>ZIP CODE</th>\n",
       "      <th>LATITUDE</th>\n",
       "      <th>LONGITUDE</th>\n",
       "      <th>LOCATION</th>\n",
       "      <th>ON STREET NAME</th>\n",
       "      <th>CROSS STREET NAME</th>\n",
       "      <th>OFF STREET NAME</th>\n",
       "      <th>NUMBER OF PERSONS INJURED</th>\n",
       "      <th>...</th>\n",
       "      <th>CONTRIBUTING FACTOR VEHICLE 2</th>\n",
       "      <th>CONTRIBUTING FACTOR VEHICLE 3</th>\n",
       "      <th>CONTRIBUTING FACTOR VEHICLE 4</th>\n",
       "      <th>CONTRIBUTING FACTOR VEHICLE 5</th>\n",
       "      <th>COLLISION_ID</th>\n",
       "      <th>VEHICLE TYPE CODE 1</th>\n",
       "      <th>VEHICLE TYPE CODE 2</th>\n",
       "      <th>VEHICLE TYPE CODE 3</th>\n",
       "      <th>VEHICLE TYPE CODE 4</th>\n",
       "      <th>VEHICLE TYPE CODE 5</th>\n",
       "    </tr>\n",
       "  </thead>\n",
       "  <tbody>\n",
       "    <tr>\n",
       "      <th>0</th>\n",
       "      <td>2021-09-11 02:39:00</td>\n",
       "      <td>NaN</td>\n",
       "      <td>NaN</td>\n",
       "      <td>NaN</td>\n",
       "      <td>NaN</td>\n",
       "      <td>NaN</td>\n",
       "      <td>WHITESTONE EXPRESSWAY</td>\n",
       "      <td>20 AVENUE</td>\n",
       "      <td>NaN</td>\n",
       "      <td>2.0</td>\n",
       "      <td>...</td>\n",
       "      <td>Unspecified</td>\n",
       "      <td>NaN</td>\n",
       "      <td>NaN</td>\n",
       "      <td>NaN</td>\n",
       "      <td>4455765</td>\n",
       "      <td>Sedan</td>\n",
       "      <td>Sedan</td>\n",
       "      <td>NaN</td>\n",
       "      <td>NaN</td>\n",
       "      <td>NaN</td>\n",
       "    </tr>\n",
       "    <tr>\n",
       "      <th>1</th>\n",
       "      <td>2022-03-26 11:45:00</td>\n",
       "      <td>NaN</td>\n",
       "      <td>NaN</td>\n",
       "      <td>NaN</td>\n",
       "      <td>NaN</td>\n",
       "      <td>NaN</td>\n",
       "      <td>QUEENSBORO BRIDGE UPPER</td>\n",
       "      <td>NaN</td>\n",
       "      <td>NaN</td>\n",
       "      <td>1.0</td>\n",
       "      <td>...</td>\n",
       "      <td>NaN</td>\n",
       "      <td>NaN</td>\n",
       "      <td>NaN</td>\n",
       "      <td>NaN</td>\n",
       "      <td>4513547</td>\n",
       "      <td>Sedan</td>\n",
       "      <td>NaN</td>\n",
       "      <td>NaN</td>\n",
       "      <td>NaN</td>\n",
       "      <td>NaN</td>\n",
       "    </tr>\n",
       "    <tr>\n",
       "      <th>2</th>\n",
       "      <td>2022-06-29 06:55:00</td>\n",
       "      <td>NaN</td>\n",
       "      <td>NaN</td>\n",
       "      <td>NaN</td>\n",
       "      <td>NaN</td>\n",
       "      <td>NaN</td>\n",
       "      <td>THROGS NECK BRIDGE</td>\n",
       "      <td>NaN</td>\n",
       "      <td>NaN</td>\n",
       "      <td>0.0</td>\n",
       "      <td>...</td>\n",
       "      <td>Unspecified</td>\n",
       "      <td>NaN</td>\n",
       "      <td>NaN</td>\n",
       "      <td>NaN</td>\n",
       "      <td>4541903</td>\n",
       "      <td>Sedan</td>\n",
       "      <td>Pick-up Truck</td>\n",
       "      <td>NaN</td>\n",
       "      <td>NaN</td>\n",
       "      <td>NaN</td>\n",
       "    </tr>\n",
       "    <tr>\n",
       "      <th>3</th>\n",
       "      <td>2021-09-11 09:35:00</td>\n",
       "      <td>BROOKLYN</td>\n",
       "      <td>11208.0</td>\n",
       "      <td>40.667202</td>\n",
       "      <td>-73.866500</td>\n",
       "      <td>(40.667202, -73.8665)</td>\n",
       "      <td>NaN</td>\n",
       "      <td>NaN</td>\n",
       "      <td>1211      LORING AVENUE</td>\n",
       "      <td>0.0</td>\n",
       "      <td>...</td>\n",
       "      <td>NaN</td>\n",
       "      <td>NaN</td>\n",
       "      <td>NaN</td>\n",
       "      <td>NaN</td>\n",
       "      <td>4456314</td>\n",
       "      <td>Sedan</td>\n",
       "      <td>NaN</td>\n",
       "      <td>NaN</td>\n",
       "      <td>NaN</td>\n",
       "      <td>NaN</td>\n",
       "    </tr>\n",
       "    <tr>\n",
       "      <th>4</th>\n",
       "      <td>2021-12-14 08:13:00</td>\n",
       "      <td>BROOKLYN</td>\n",
       "      <td>11233.0</td>\n",
       "      <td>40.683304</td>\n",
       "      <td>-73.917274</td>\n",
       "      <td>(40.683304, -73.917274)</td>\n",
       "      <td>SARATOGA AVENUE</td>\n",
       "      <td>DECATUR STREET</td>\n",
       "      <td>NaN</td>\n",
       "      <td>0.0</td>\n",
       "      <td>...</td>\n",
       "      <td>NaN</td>\n",
       "      <td>NaN</td>\n",
       "      <td>NaN</td>\n",
       "      <td>NaN</td>\n",
       "      <td>4486609</td>\n",
       "      <td>NaN</td>\n",
       "      <td>NaN</td>\n",
       "      <td>NaN</td>\n",
       "      <td>NaN</td>\n",
       "      <td>NaN</td>\n",
       "    </tr>\n",
       "    <tr>\n",
       "      <th>...</th>\n",
       "      <td>...</td>\n",
       "      <td>...</td>\n",
       "      <td>...</td>\n",
       "      <td>...</td>\n",
       "      <td>...</td>\n",
       "      <td>...</td>\n",
       "      <td>...</td>\n",
       "      <td>...</td>\n",
       "      <td>...</td>\n",
       "      <td>...</td>\n",
       "      <td>...</td>\n",
       "      <td>...</td>\n",
       "      <td>...</td>\n",
       "      <td>...</td>\n",
       "      <td>...</td>\n",
       "      <td>...</td>\n",
       "      <td>...</td>\n",
       "      <td>...</td>\n",
       "      <td>...</td>\n",
       "      <td>...</td>\n",
       "      <td>...</td>\n",
       "    </tr>\n",
       "    <tr>\n",
       "      <th>2018240</th>\n",
       "      <td>2023-07-03 18:05:00</td>\n",
       "      <td>NaN</td>\n",
       "      <td>NaN</td>\n",
       "      <td>40.866806</td>\n",
       "      <td>-73.931010</td>\n",
       "      <td>(40.866806, -73.93101)</td>\n",
       "      <td>RIVERSIDE DRIVE</td>\n",
       "      <td>NaN</td>\n",
       "      <td>NaN</td>\n",
       "      <td>0.0</td>\n",
       "      <td>...</td>\n",
       "      <td>Unspecified</td>\n",
       "      <td>NaN</td>\n",
       "      <td>NaN</td>\n",
       "      <td>NaN</td>\n",
       "      <td>4648110</td>\n",
       "      <td>Sedan</td>\n",
       "      <td>Sedan</td>\n",
       "      <td>NaN</td>\n",
       "      <td>NaN</td>\n",
       "      <td>NaN</td>\n",
       "    </tr>\n",
       "    <tr>\n",
       "      <th>2018241</th>\n",
       "      <td>2023-07-22 21:39:00</td>\n",
       "      <td>BRONX</td>\n",
       "      <td>10457.0</td>\n",
       "      <td>40.844177</td>\n",
       "      <td>-73.902920</td>\n",
       "      <td>(40.844177, -73.90292)</td>\n",
       "      <td>EAST 174 STREET</td>\n",
       "      <td>WEBSTER AVENUE</td>\n",
       "      <td>NaN</td>\n",
       "      <td>1.0</td>\n",
       "      <td>...</td>\n",
       "      <td>NaN</td>\n",
       "      <td>NaN</td>\n",
       "      <td>NaN</td>\n",
       "      <td>NaN</td>\n",
       "      <td>4648117</td>\n",
       "      <td>Sedan</td>\n",
       "      <td>NaN</td>\n",
       "      <td>NaN</td>\n",
       "      <td>NaN</td>\n",
       "      <td>NaN</td>\n",
       "    </tr>\n",
       "    <tr>\n",
       "      <th>2018242</th>\n",
       "      <td>2023-07-02 17:55:00</td>\n",
       "      <td>MANHATTAN</td>\n",
       "      <td>10006.0</td>\n",
       "      <td>40.711033</td>\n",
       "      <td>-74.014540</td>\n",
       "      <td>(40.711033, -74.01454)</td>\n",
       "      <td>WEST STREET</td>\n",
       "      <td>LIBERTY STREET</td>\n",
       "      <td>NaN</td>\n",
       "      <td>0.0</td>\n",
       "      <td>...</td>\n",
       "      <td>NaN</td>\n",
       "      <td>NaN</td>\n",
       "      <td>NaN</td>\n",
       "      <td>NaN</td>\n",
       "      <td>4648366</td>\n",
       "      <td>Taxi</td>\n",
       "      <td>NaN</td>\n",
       "      <td>NaN</td>\n",
       "      <td>NaN</td>\n",
       "      <td>NaN</td>\n",
       "    </tr>\n",
       "    <tr>\n",
       "      <th>2018243</th>\n",
       "      <td>2023-07-22 13:15:00</td>\n",
       "      <td>QUEENS</td>\n",
       "      <td>11433.0</td>\n",
       "      <td>40.691580</td>\n",
       "      <td>-73.793190</td>\n",
       "      <td>(40.69158, -73.79319)</td>\n",
       "      <td>110 AVENUE</td>\n",
       "      <td>157 STREET</td>\n",
       "      <td>NaN</td>\n",
       "      <td>1.0</td>\n",
       "      <td>...</td>\n",
       "      <td>Driver Inattention/Distraction</td>\n",
       "      <td>NaN</td>\n",
       "      <td>NaN</td>\n",
       "      <td>NaN</td>\n",
       "      <td>4648129</td>\n",
       "      <td>Station Wagon/Sport Utility Vehicle</td>\n",
       "      <td>E-Bike</td>\n",
       "      <td>NaN</td>\n",
       "      <td>NaN</td>\n",
       "      <td>NaN</td>\n",
       "    </tr>\n",
       "    <tr>\n",
       "      <th>2018244</th>\n",
       "      <td>2023-07-22 03:00:00</td>\n",
       "      <td>QUEENS</td>\n",
       "      <td>11433.0</td>\n",
       "      <td>40.700240</td>\n",
       "      <td>-73.792854</td>\n",
       "      <td>(40.70024, -73.792854)</td>\n",
       "      <td>SOUTH ROAD</td>\n",
       "      <td>164 STREET</td>\n",
       "      <td>NaN</td>\n",
       "      <td>0.0</td>\n",
       "      <td>...</td>\n",
       "      <td>NaN</td>\n",
       "      <td>NaN</td>\n",
       "      <td>NaN</td>\n",
       "      <td>NaN</td>\n",
       "      <td>4647913</td>\n",
       "      <td>Sedan</td>\n",
       "      <td>NaN</td>\n",
       "      <td>NaN</td>\n",
       "      <td>NaN</td>\n",
       "      <td>NaN</td>\n",
       "    </tr>\n",
       "  </tbody>\n",
       "</table>\n",
       "<p>2018245 rows × 28 columns</p>\n",
       "</div>"
      ],
      "text/plain": [
       "        CRASH DATE_CRASH TIME    BOROUGH ZIP CODE   LATITUDE  LONGITUDE  \\\n",
       "0         2021-09-11 02:39:00        NaN      NaN        NaN        NaN   \n",
       "1         2022-03-26 11:45:00        NaN      NaN        NaN        NaN   \n",
       "2         2022-06-29 06:55:00        NaN      NaN        NaN        NaN   \n",
       "3         2021-09-11 09:35:00   BROOKLYN  11208.0  40.667202 -73.866500   \n",
       "4         2021-12-14 08:13:00   BROOKLYN  11233.0  40.683304 -73.917274   \n",
       "...                       ...        ...      ...        ...        ...   \n",
       "2018240   2023-07-03 18:05:00        NaN      NaN  40.866806 -73.931010   \n",
       "2018241   2023-07-22 21:39:00      BRONX  10457.0  40.844177 -73.902920   \n",
       "2018242   2023-07-02 17:55:00  MANHATTAN  10006.0  40.711033 -74.014540   \n",
       "2018243   2023-07-22 13:15:00     QUEENS  11433.0  40.691580 -73.793190   \n",
       "2018244   2023-07-22 03:00:00     QUEENS  11433.0  40.700240 -73.792854   \n",
       "\n",
       "                        LOCATION           ON STREET NAME CROSS STREET NAME  \\\n",
       "0                            NaN    WHITESTONE EXPRESSWAY         20 AVENUE   \n",
       "1                            NaN  QUEENSBORO BRIDGE UPPER               NaN   \n",
       "2                            NaN       THROGS NECK BRIDGE               NaN   \n",
       "3          (40.667202, -73.8665)                      NaN               NaN   \n",
       "4        (40.683304, -73.917274)          SARATOGA AVENUE    DECATUR STREET   \n",
       "...                          ...                      ...               ...   \n",
       "2018240   (40.866806, -73.93101)          RIVERSIDE DRIVE               NaN   \n",
       "2018241   (40.844177, -73.90292)          EAST 174 STREET    WEBSTER AVENUE   \n",
       "2018242   (40.711033, -74.01454)              WEST STREET    LIBERTY STREET   \n",
       "2018243    (40.69158, -73.79319)               110 AVENUE        157 STREET   \n",
       "2018244   (40.70024, -73.792854)               SOUTH ROAD        164 STREET   \n",
       "\n",
       "                 OFF STREET NAME  NUMBER OF PERSONS INJURED  ...  \\\n",
       "0                            NaN                        2.0  ...   \n",
       "1                            NaN                        1.0  ...   \n",
       "2                            NaN                        0.0  ...   \n",
       "3        1211      LORING AVENUE                        0.0  ...   \n",
       "4                            NaN                        0.0  ...   \n",
       "...                          ...                        ...  ...   \n",
       "2018240                      NaN                        0.0  ...   \n",
       "2018241                      NaN                        1.0  ...   \n",
       "2018242                      NaN                        0.0  ...   \n",
       "2018243                      NaN                        1.0  ...   \n",
       "2018244                      NaN                        0.0  ...   \n",
       "\n",
       "          CONTRIBUTING FACTOR VEHICLE 2  CONTRIBUTING FACTOR VEHICLE 3  \\\n",
       "0                           Unspecified                            NaN   \n",
       "1                                   NaN                            NaN   \n",
       "2                           Unspecified                            NaN   \n",
       "3                                   NaN                            NaN   \n",
       "4                                   NaN                            NaN   \n",
       "...                                 ...                            ...   \n",
       "2018240                     Unspecified                            NaN   \n",
       "2018241                             NaN                            NaN   \n",
       "2018242                             NaN                            NaN   \n",
       "2018243  Driver Inattention/Distraction                            NaN   \n",
       "2018244                             NaN                            NaN   \n",
       "\n",
       "         CONTRIBUTING FACTOR VEHICLE 4  CONTRIBUTING FACTOR VEHICLE 5  \\\n",
       "0                                  NaN                            NaN   \n",
       "1                                  NaN                            NaN   \n",
       "2                                  NaN                            NaN   \n",
       "3                                  NaN                            NaN   \n",
       "4                                  NaN                            NaN   \n",
       "...                                ...                            ...   \n",
       "2018240                            NaN                            NaN   \n",
       "2018241                            NaN                            NaN   \n",
       "2018242                            NaN                            NaN   \n",
       "2018243                            NaN                            NaN   \n",
       "2018244                            NaN                            NaN   \n",
       "\n",
       "         COLLISION_ID                  VEHICLE TYPE CODE 1  \\\n",
       "0             4455765                                Sedan   \n",
       "1             4513547                                Sedan   \n",
       "2             4541903                                Sedan   \n",
       "3             4456314                                Sedan   \n",
       "4             4486609                                  NaN   \n",
       "...               ...                                  ...   \n",
       "2018240       4648110                                Sedan   \n",
       "2018241       4648117                                Sedan   \n",
       "2018242       4648366                                 Taxi   \n",
       "2018243       4648129  Station Wagon/Sport Utility Vehicle   \n",
       "2018244       4647913                                Sedan   \n",
       "\n",
       "         VEHICLE TYPE CODE 2 VEHICLE TYPE CODE 3 VEHICLE TYPE CODE 4  \\\n",
       "0                      Sedan                 NaN                 NaN   \n",
       "1                        NaN                 NaN                 NaN   \n",
       "2              Pick-up Truck                 NaN                 NaN   \n",
       "3                        NaN                 NaN                 NaN   \n",
       "4                        NaN                 NaN                 NaN   \n",
       "...                      ...                 ...                 ...   \n",
       "2018240                Sedan                 NaN                 NaN   \n",
       "2018241                  NaN                 NaN                 NaN   \n",
       "2018242                  NaN                 NaN                 NaN   \n",
       "2018243               E-Bike                 NaN                 NaN   \n",
       "2018244                  NaN                 NaN                 NaN   \n",
       "\n",
       "        VEHICLE TYPE CODE 5  \n",
       "0                       NaN  \n",
       "1                       NaN  \n",
       "2                       NaN  \n",
       "3                       NaN  \n",
       "4                       NaN  \n",
       "...                     ...  \n",
       "2018240                 NaN  \n",
       "2018241                 NaN  \n",
       "2018242                 NaN  \n",
       "2018243                 NaN  \n",
       "2018244                 NaN  \n",
       "\n",
       "[2018245 rows x 28 columns]"
      ]
     },
     "execution_count": 2,
     "metadata": {},
     "output_type": "execute_result"
    }
   ],
   "source": [
    "df = pd.read_pickle(\"shared/Motor_Vehicle_Collisions_-_Crashes.pkl\")\n",
    "df\n"
   ]
  },
  {
   "cell_type": "markdown",
   "id": "87123ec4-745a-471d-9439-41b02b66e474",
   "metadata": {},
   "source": [
    "***\n",
    "### Show some exploratory data analysis here\n",
    "***"
   ]
  },
  {
   "cell_type": "code",
   "execution_count": 27,
   "id": "4c22990a-2a8f-467f-b81e-9ea87305efae",
   "metadata": {
    "tags": []
   },
   "outputs": [
    {
     "name": "stdout",
     "output_type": "stream",
     "text": [
      "<class 'pandas.core.frame.DataFrame'>\n",
      "RangeIndex: 2018245 entries, 0 to 2018244\n",
      "Data columns (total 28 columns):\n",
      " #   Column                         Dtype         \n",
      "---  ------                         -----         \n",
      " 0   CRASH DATE_CRASH TIME          datetime64[ns]\n",
      " 1   BOROUGH                        object        \n",
      " 2   ZIP CODE                       object        \n",
      " 3   LATITUDE                       float64       \n",
      " 4   LONGITUDE                      float64       \n",
      " 5   LOCATION                       object        \n",
      " 6   ON STREET NAME                 object        \n",
      " 7   CROSS STREET NAME              object        \n",
      " 8   OFF STREET NAME                object        \n",
      " 9   NUMBER OF PERSONS INJURED      float64       \n",
      " 10  NUMBER OF PERSONS KILLED       float64       \n",
      " 11  NUMBER OF PEDESTRIANS INJURED  int64         \n",
      " 12  NUMBER OF PEDESTRIANS KILLED   int64         \n",
      " 13  NUMBER OF CYCLIST INJURED      int64         \n",
      " 14  NUMBER OF CYCLIST KILLED       int64         \n",
      " 15  NUMBER OF MOTORIST INJURED     int64         \n",
      " 16  NUMBER OF MOTORIST KILLED      int64         \n",
      " 17  CONTRIBUTING FACTOR VEHICLE 1  object        \n",
      " 18  CONTRIBUTING FACTOR VEHICLE 2  object        \n",
      " 19  CONTRIBUTING FACTOR VEHICLE 3  object        \n",
      " 20  CONTRIBUTING FACTOR VEHICLE 4  object        \n",
      " 21  CONTRIBUTING FACTOR VEHICLE 5  object        \n",
      " 22  COLLISION_ID                   int64         \n",
      " 23  VEHICLE TYPE CODE 1            object        \n",
      " 24  VEHICLE TYPE CODE 2            object        \n",
      " 25  VEHICLE TYPE CODE 3            object        \n",
      " 26  VEHICLE TYPE CODE 4            object        \n",
      " 27  VEHICLE TYPE CODE 5            object        \n",
      "dtypes: datetime64[ns](1), float64(4), int64(7), object(16)\n",
      "memory usage: 431.1+ MB\n",
      "None\n",
      "                CRASH DATE_CRASH TIME   BOROUGH   ZIP CODE      LATITUDE  \\\n",
      "count                         2018245   1390391  1390153.0  1.788560e+06   \n",
      "unique                            NaN         5      426.0           NaN   \n",
      "top                               NaN  BROOKLYN    11207.0           NaN   \n",
      "freq                              NaN    441026    19792.0           NaN   \n",
      "mean    2017-05-14 17:39:03.899198976       NaN        NaN  4.062776e+01   \n",
      "min               2012-07-01 00:05:00       NaN        NaN  0.000000e+00   \n",
      "25%               2014-12-19 18:00:00       NaN        NaN  4.066792e+01   \n",
      "50%               2017-03-29 21:15:00       NaN        NaN  4.072102e+01   \n",
      "75%               2019-06-10 18:30:00       NaN        NaN  4.076956e+01   \n",
      "max               2023-08-15 23:59:00       NaN        NaN  4.334444e+01   \n",
      "std                               NaN       NaN        NaN  1.980901e+00   \n",
      "\n",
      "           LONGITUDE    LOCATION                    ON STREET NAME  \\\n",
      "count   1.788560e+06     1788560                           1593438   \n",
      "unique           NaN      274041                             17990   \n",
      "top              NaN  (0.0, 0.0)  BROADWAY                           \n",
      "freq             NaN        4235                             17277   \n",
      "mean   -7.375228e+01         NaN                               NaN   \n",
      "min    -2.013600e+02         NaN                               NaN   \n",
      "25%    -7.397493e+01         NaN                               NaN   \n",
      "50%    -7.392732e+01         NaN                               NaN   \n",
      "75%    -7.386665e+01         NaN                               NaN   \n",
      "max     0.000000e+00         NaN                               NaN   \n",
      "std     3.727568e+00         NaN                               NaN   \n",
      "\n",
      "                       CROSS STREET NAME  \\\n",
      "count                            1262713   \n",
      "unique                             20039   \n",
      "top     3 AVENUE                           \n",
      "freq                                9843   \n",
      "mean                                 NaN   \n",
      "min                                  NaN   \n",
      "25%                                  NaN   \n",
      "50%                                  NaN   \n",
      "75%                                  NaN   \n",
      "max                                  NaN   \n",
      "std                                  NaN   \n",
      "\n",
      "                                 OFF STREET NAME  NUMBER OF PERSONS INJURED  \\\n",
      "count                                     332435               2.018227e+06   \n",
      "unique                                    215352                        NaN   \n",
      "top     772       EDGEWATER ROAD                                        NaN   \n",
      "freq                                         402                        NaN   \n",
      "mean                                         NaN               3.024249e-01   \n",
      "min                                          NaN               0.000000e+00   \n",
      "25%                                          NaN               0.000000e+00   \n",
      "50%                                          NaN               0.000000e+00   \n",
      "75%                                          NaN               0.000000e+00   \n",
      "max                                          NaN               4.300000e+01   \n",
      "std                                          NaN               6.937633e-01   \n",
      "\n",
      "        ...  CONTRIBUTING FACTOR VEHICLE 2  CONTRIBUTING FACTOR VEHICLE 3  \\\n",
      "count   ...                        1710336                         143131   \n",
      "unique  ...                             61                             51   \n",
      "top     ...                    Unspecified                    Unspecified   \n",
      "freq    ...                        1440015                         133444   \n",
      "mean    ...                            NaN                            NaN   \n",
      "min     ...                            NaN                            NaN   \n",
      "25%     ...                            NaN                            NaN   \n",
      "50%     ...                            NaN                            NaN   \n",
      "75%     ...                            NaN                            NaN   \n",
      "max     ...                            NaN                            NaN   \n",
      "std     ...                            NaN                            NaN   \n",
      "\n",
      "        CONTRIBUTING FACTOR VEHICLE 4  CONTRIBUTING FACTOR VEHICLE 5  \\\n",
      "count                           32123                           8670   \n",
      "unique                             41                             30   \n",
      "top                       Unspecified                    Unspecified   \n",
      "freq                            30317                           8177   \n",
      "mean                              NaN                            NaN   \n",
      "min                               NaN                            NaN   \n",
      "25%                               NaN                            NaN   \n",
      "50%                               NaN                            NaN   \n",
      "75%                               NaN                            NaN   \n",
      "max                               NaN                            NaN   \n",
      "std                               NaN                            NaN   \n",
      "\n",
      "        COLLISION_ID  VEHICLE TYPE CODE 1  VEHICLE TYPE CODE 2  \\\n",
      "count   2.018245e+06              2005568              1641255   \n",
      "unique           NaN                 1562                 1739   \n",
      "top              NaN                Sedan                Sedan   \n",
      "freq             NaN               550684               388721   \n",
      "mean    3.116455e+06                  NaN                  NaN   \n",
      "min     2.200000e+01                  NaN                  NaN   \n",
      "25%     3.140681e+06                  NaN                  NaN   \n",
      "50%     3.645346e+06                  NaN                  NaN   \n",
      "75%     4.150156e+06                  NaN                  NaN   \n",
      "max     4.655026e+06                  NaN                  NaN   \n",
      "std     1.503997e+06                  NaN                  NaN   \n",
      "\n",
      "       VEHICLE TYPE CODE 3 VEHICLE TYPE CODE 4 VEHICLE TYPE CODE 5  \n",
      "count               138147               31052                8410  \n",
      "unique                 246                  99                  67  \n",
      "top                  Sedan               Sedan               Sedan  \n",
      "freq                 42158               10188                2852  \n",
      "mean                   NaN                 NaN                 NaN  \n",
      "min                    NaN                 NaN                 NaN  \n",
      "25%                    NaN                 NaN                 NaN  \n",
      "50%                    NaN                 NaN                 NaN  \n",
      "75%                    NaN                 NaN                 NaN  \n",
      "max                    NaN                 NaN                 NaN  \n",
      "std                    NaN                 NaN                 NaN  \n",
      "\n",
      "[11 rows x 28 columns]\n"
     ]
    }
   ],
   "source": [
    "# Displaying basic information about the DataFrame\n",
    "print(df.info())\n",
    "\n",
    "# Displaying summary statistics of the DataFrame\n",
    "print(df.describe(include='all'))"
   ]
  },
  {
   "cell_type": "code",
   "execution_count": 30,
   "id": "c0b3b196-fae6-4f60-b59e-b1ad52a5ddca",
   "metadata": {
    "tags": []
   },
   "outputs": [
    {
     "name": "stdout",
     "output_type": "stream",
     "text": [
      "CRASH DATE_CRASH TIME                  0\n",
      "BOROUGH                           627854\n",
      "ZIP CODE                          628092\n",
      "LATITUDE                          229685\n",
      "LONGITUDE                         229685\n",
      "LOCATION                          229685\n",
      "ON STREET NAME                    424807\n",
      "CROSS STREET NAME                 755532\n",
      "OFF STREET NAME                  1685810\n",
      "NUMBER OF PERSONS INJURED             18\n",
      "NUMBER OF PERSONS KILLED              31\n",
      "NUMBER OF PEDESTRIANS INJURED          0\n",
      "NUMBER OF PEDESTRIANS KILLED           0\n",
      "NUMBER OF CYCLIST INJURED              0\n",
      "NUMBER OF CYCLIST KILLED               0\n",
      "NUMBER OF MOTORIST INJURED             0\n",
      "NUMBER OF MOTORIST KILLED              0\n",
      "CONTRIBUTING FACTOR VEHICLE 1       6348\n",
      "CONTRIBUTING FACTOR VEHICLE 2     307909\n",
      "CONTRIBUTING FACTOR VEHICLE 3    1875114\n",
      "CONTRIBUTING FACTOR VEHICLE 4    1986122\n",
      "CONTRIBUTING FACTOR VEHICLE 5    2009575\n",
      "COLLISION_ID                           0\n",
      "VEHICLE TYPE CODE 1                12677\n",
      "VEHICLE TYPE CODE 2               376990\n",
      "VEHICLE TYPE CODE 3              1880098\n",
      "VEHICLE TYPE CODE 4              1987193\n",
      "VEHICLE TYPE CODE 5              2009835\n",
      "dtype: int64\n",
      "CRASH DATE_CRASH TIME             0.000000\n",
      "BOROUGH                          31.108909\n",
      "ZIP CODE                         31.120701\n",
      "LATITUDE                         11.380432\n",
      "LONGITUDE                        11.380432\n",
      "LOCATION                         11.380432\n",
      "ON STREET NAME                   21.048337\n",
      "CROSS STREET NAME                37.435098\n",
      "OFF STREET NAME                  83.528511\n",
      "NUMBER OF PERSONS INJURED         0.000892\n",
      "NUMBER OF PERSONS KILLED          0.001536\n",
      "NUMBER OF PEDESTRIANS INJURED     0.000000\n",
      "NUMBER OF PEDESTRIANS KILLED      0.000000\n",
      "NUMBER OF CYCLIST INJURED         0.000000\n",
      "NUMBER OF CYCLIST KILLED          0.000000\n",
      "NUMBER OF MOTORIST INJURED        0.000000\n",
      "NUMBER OF MOTORIST KILLED         0.000000\n",
      "CONTRIBUTING FACTOR VEHICLE 1     0.314531\n",
      "CONTRIBUTING FACTOR VEHICLE 2    15.256275\n",
      "CONTRIBUTING FACTOR VEHICLE 3    92.908145\n",
      "CONTRIBUTING FACTOR VEHICLE 4    98.408370\n",
      "CONTRIBUTING FACTOR VEHICLE 5    99.570419\n",
      "COLLISION_ID                      0.000000\n",
      "VEHICLE TYPE CODE 1               0.628120\n",
      "VEHICLE TYPE CODE 2              18.679100\n",
      "VEHICLE TYPE CODE 3              93.155093\n",
      "VEHICLE TYPE CODE 4              98.461436\n",
      "VEHICLE TYPE CODE 5              99.583301\n",
      "dtype: float64\n"
     ]
    }
   ],
   "source": [
    "# Counting the number of missing values in each column\n",
    "missing_counts = df.isnull().sum()\n",
    "print(missing_counts)\n",
    "\n",
    "# Divide the count of missing values by the total number of rows in the DataFrame and multiply by 100\n",
    "missing_percentages = (missing_counts / len(df)) * 100\n",
    "print(missing_percentages)"
   ]
  },
  {
   "cell_type": "code",
   "execution_count": 31,
   "id": "472fdc3f-a6cd-4ca2-a7c0-1b98b178031c",
   "metadata": {
    "tags": []
   },
   "outputs": [
    {
     "name": "stdout",
     "output_type": "stream",
     "text": [
      "[nan 'BROOKLYN' 'BRONX' 'MANHATTAN' 'QUEENS' 'STATEN ISLAND']\n"
     ]
    }
   ],
   "source": [
    "# Displaying unique values in the 'BOROUGH' column\n",
    "print(df['BOROUGH'].unique())"
   ]
  },
  {
   "cell_type": "code",
   "execution_count": 32,
   "id": "f44f94cf-e7ba-4d87-9f73-8bdfd742d7a0",
   "metadata": {
    "tags": []
   },
   "outputs": [
    {
     "data": {
      "image/png": "[encoded data removed]",
      "text/plain": [
       "<Figure size 640x480 with 1 Axes>"
      ]
     },
     "metadata": {},
     "output_type": "display_data"
    }
   ],
   "source": [
    "# Visualizing the distribution of 'NUMBER OF PERSONS INJURED' column\n",
    "sns.histplot(df['NUMBER OF PERSONS INJURED'].dropna())\n",
    "plt.title('Distribution of Number of Persons Injured')\n",
    "plt.xlabel('Number of Persons Injured')\n",
    "plt.ylabel('Frequency')\n",
    "plt.show()"
   ]
  },
  {
   "cell_type": "code",
   "execution_count": 33,
   "id": "ecfb0df8-488a-45e2-a056-c97c3d565883",
   "metadata": {
    "tags": []
   },
   "outputs": [
    {
     "name": "stdout",
     "output_type": "stream",
     "text": [
      "         BOROUGH  NUMBER OF PERSONS INJURED\n",
      "0          BRONX                   0.319761\n",
      "1       BROOKLYN                   0.323977\n",
      "2      MANHATTAN                   0.204620\n",
      "3         QUEENS                   0.293695\n",
      "4  STATEN ISLAND                   0.279500\n"
     ]
    }
   ],
   "source": [
    "# Grouping by 'BOROUGH' and calculating the average number of persons injured in each borough\n",
    "borough_injuries = df.groupby('BOROUGH')['NUMBER OF PERSONS INJURED'].mean().reset_index()\n",
    "print(borough_injuries)"
   ]
  },
  {
   "cell_type": "code",
   "execution_count": 34,
   "id": "49ab4055-a7f9-4d13-8e58-ff23a029f9a9",
   "metadata": {
    "tags": []
   },
   "outputs": [
    {
     "data": {
      "image/png": "[encoded data removed]",
      "text/plain": [
       "<Figure size 640x480 with 1 Axes>"
      ]
     },
     "metadata": {},
     "output_type": "display_data"
    }
   ],
   "source": [
    "# Visualizing the count of accidents in each borough\n",
    "sns.countplot(data=df, y='BOROUGH', order=df['BOROUGH'].value_counts().index)\n",
    "plt.title('Number of Accidents in Each Borough')\n",
    "plt.xlabel('Count')\n",
    "plt.ylabel('Borough')\n",
    "plt.show()"
   ]
  },
  {
   "cell_type": "code",
   "execution_count": 35,
   "id": "8d1e0c2b-508e-4071-b041-0fad069ec2e7",
   "metadata": {
    "tags": []
   },
   "outputs": [
    {
     "ename": "ValueError",
     "evalue": "could not convert string to float: 'BROOKLYN'",
     "output_type": "error",
     "traceback": [
      "\u001b[0;31m---------------------------------------------------------------------------\u001b[0m",
      "\u001b[0;31mValueError\u001b[0m                                Traceback (most recent call last)",
      "Cell \u001b[0;32mIn[35], line 3\u001b[0m\n\u001b[1;32m      1\u001b[0m \u001b[38;5;66;03m# Displaying the correlation matrix\u001b[39;00m\n\u001b[1;32m      2\u001b[0m plt\u001b[38;5;241m.\u001b[39mfigure(figsize\u001b[38;5;241m=\u001b[39m(\u001b[38;5;241m10\u001b[39m,\u001b[38;5;241m8\u001b[39m))\n\u001b[0;32m----> 3\u001b[0m sns\u001b[38;5;241m.\u001b[39mheatmap(\u001b[43mdf\u001b[49m\u001b[38;5;241;43m.\u001b[39;49m\u001b[43mcorr\u001b[49m\u001b[43m(\u001b[49m\u001b[43m)\u001b[49m, annot\u001b[38;5;241m=\u001b[39m\u001b[38;5;28;01mTrue\u001b[39;00m, cmap\u001b[38;5;241m=\u001b[39m\u001b[38;5;124m'\u001b[39m\u001b[38;5;124mcoolwarm\u001b[39m\u001b[38;5;124m'\u001b[39m, fmt\u001b[38;5;241m=\u001b[39m\u001b[38;5;124m\"\u001b[39m\u001b[38;5;124m.2f\u001b[39m\u001b[38;5;124m\"\u001b[39m)\n\u001b[1;32m      4\u001b[0m plt\u001b[38;5;241m.\u001b[39mtitle(\u001b[38;5;124m'\u001b[39m\u001b[38;5;124mCorrelation Matrix\u001b[39m\u001b[38;5;124m'\u001b[39m)\n\u001b[1;32m      5\u001b[0m plt\u001b[38;5;241m.\u001b[39mshow()\n",
      "File \u001b[0;32m/opt/conda/envs/mggy8413/lib/python3.10/site-packages/pandas/core/frame.py:10054\u001b[0m, in \u001b[0;36mDataFrame.corr\u001b[0;34m(self, method, min_periods, numeric_only)\u001b[0m\n\u001b[1;32m  10052\u001b[0m cols \u001b[38;5;241m=\u001b[39m data\u001b[38;5;241m.\u001b[39mcolumns\n\u001b[1;32m  10053\u001b[0m idx \u001b[38;5;241m=\u001b[39m cols\u001b[38;5;241m.\u001b[39mcopy()\n\u001b[0;32m> 10054\u001b[0m mat \u001b[38;5;241m=\u001b[39m \u001b[43mdata\u001b[49m\u001b[38;5;241;43m.\u001b[39;49m\u001b[43mto_numpy\u001b[49m\u001b[43m(\u001b[49m\u001b[43mdtype\u001b[49m\u001b[38;5;241;43m=\u001b[39;49m\u001b[38;5;28;43mfloat\u001b[39;49m\u001b[43m,\u001b[49m\u001b[43m \u001b[49m\u001b[43mna_value\u001b[49m\u001b[38;5;241;43m=\u001b[39;49m\u001b[43mnp\u001b[49m\u001b[38;5;241;43m.\u001b[39;49m\u001b[43mnan\u001b[49m\u001b[43m,\u001b[49m\u001b[43m \u001b[49m\u001b[43mcopy\u001b[49m\u001b[38;5;241;43m=\u001b[39;49m\u001b[38;5;28;43;01mFalse\u001b[39;49;00m\u001b[43m)\u001b[49m\n\u001b[1;32m  10056\u001b[0m \u001b[38;5;28;01mif\u001b[39;00m method \u001b[38;5;241m==\u001b[39m \u001b[38;5;124m\"\u001b[39m\u001b[38;5;124mpearson\u001b[39m\u001b[38;5;124m\"\u001b[39m:\n\u001b[1;32m  10057\u001b[0m     correl \u001b[38;5;241m=\u001b[39m libalgos\u001b[38;5;241m.\u001b[39mnancorr(mat, minp\u001b[38;5;241m=\u001b[39mmin_periods)\n",
      "File \u001b[0;32m/opt/conda/envs/mggy8413/lib/python3.10/site-packages/pandas/core/frame.py:1838\u001b[0m, in \u001b[0;36mDataFrame.to_numpy\u001b[0;34m(self, dtype, copy, na_value)\u001b[0m\n\u001b[1;32m   1836\u001b[0m \u001b[38;5;28;01mif\u001b[39;00m dtype \u001b[38;5;129;01mis\u001b[39;00m \u001b[38;5;129;01mnot\u001b[39;00m \u001b[38;5;28;01mNone\u001b[39;00m:\n\u001b[1;32m   1837\u001b[0m     dtype \u001b[38;5;241m=\u001b[39m np\u001b[38;5;241m.\u001b[39mdtype(dtype)\n\u001b[0;32m-> 1838\u001b[0m result \u001b[38;5;241m=\u001b[39m \u001b[38;5;28;43mself\u001b[39;49m\u001b[38;5;241;43m.\u001b[39;49m\u001b[43m_mgr\u001b[49m\u001b[38;5;241;43m.\u001b[39;49m\u001b[43mas_array\u001b[49m\u001b[43m(\u001b[49m\u001b[43mdtype\u001b[49m\u001b[38;5;241;43m=\u001b[39;49m\u001b[43mdtype\u001b[49m\u001b[43m,\u001b[49m\u001b[43m \u001b[49m\u001b[43mcopy\u001b[49m\u001b[38;5;241;43m=\u001b[39;49m\u001b[43mcopy\u001b[49m\u001b[43m,\u001b[49m\u001b[43m \u001b[49m\u001b[43mna_value\u001b[49m\u001b[38;5;241;43m=\u001b[39;49m\u001b[43mna_value\u001b[49m\u001b[43m)\u001b[49m\n\u001b[1;32m   1839\u001b[0m \u001b[38;5;28;01mif\u001b[39;00m result\u001b[38;5;241m.\u001b[39mdtype \u001b[38;5;129;01mis\u001b[39;00m \u001b[38;5;129;01mnot\u001b[39;00m dtype:\n\u001b[1;32m   1840\u001b[0m     result \u001b[38;5;241m=\u001b[39m np\u001b[38;5;241m.\u001b[39marray(result, dtype\u001b[38;5;241m=\u001b[39mdtype, copy\u001b[38;5;241m=\u001b[39m\u001b[38;5;28;01mFalse\u001b[39;00m)\n",
      "File \u001b[0;32m/opt/conda/envs/mggy8413/lib/python3.10/site-packages/pandas/core/internals/managers.py:1732\u001b[0m, in \u001b[0;36mBlockManager.as_array\u001b[0;34m(self, dtype, copy, na_value)\u001b[0m\n\u001b[1;32m   1730\u001b[0m         arr\u001b[38;5;241m.\u001b[39mflags\u001b[38;5;241m.\u001b[39mwriteable \u001b[38;5;241m=\u001b[39m \u001b[38;5;28;01mFalse\u001b[39;00m\n\u001b[1;32m   1731\u001b[0m \u001b[38;5;28;01melse\u001b[39;00m:\n\u001b[0;32m-> 1732\u001b[0m     arr \u001b[38;5;241m=\u001b[39m \u001b[38;5;28;43mself\u001b[39;49m\u001b[38;5;241;43m.\u001b[39;49m\u001b[43m_interleave\u001b[49m\u001b[43m(\u001b[49m\u001b[43mdtype\u001b[49m\u001b[38;5;241;43m=\u001b[39;49m\u001b[43mdtype\u001b[49m\u001b[43m,\u001b[49m\u001b[43m \u001b[49m\u001b[43mna_value\u001b[49m\u001b[38;5;241;43m=\u001b[39;49m\u001b[43mna_value\u001b[49m\u001b[43m)\u001b[49m\n\u001b[1;32m   1733\u001b[0m     \u001b[38;5;66;03m# The underlying data was copied within _interleave, so no need\u001b[39;00m\n\u001b[1;32m   1734\u001b[0m     \u001b[38;5;66;03m# to further copy if copy=True or setting na_value\u001b[39;00m\n\u001b[1;32m   1736\u001b[0m \u001b[38;5;28;01mif\u001b[39;00m na_value \u001b[38;5;129;01mis\u001b[39;00m \u001b[38;5;129;01mnot\u001b[39;00m lib\u001b[38;5;241m.\u001b[39mno_default:\n",
      "File \u001b[0;32m/opt/conda/envs/mggy8413/lib/python3.10/site-packages/pandas/core/internals/managers.py:1794\u001b[0m, in \u001b[0;36mBlockManager._interleave\u001b[0;34m(self, dtype, na_value)\u001b[0m\n\u001b[1;32m   1792\u001b[0m     \u001b[38;5;28;01melse\u001b[39;00m:\n\u001b[1;32m   1793\u001b[0m         arr \u001b[38;5;241m=\u001b[39m blk\u001b[38;5;241m.\u001b[39mget_values(dtype)\n\u001b[0;32m-> 1794\u001b[0m     \u001b[43mresult\u001b[49m\u001b[43m[\u001b[49m\u001b[43mrl\u001b[49m\u001b[38;5;241;43m.\u001b[39;49m\u001b[43mindexer\u001b[49m\u001b[43m]\u001b[49m \u001b[38;5;241m=\u001b[39m arr\n\u001b[1;32m   1795\u001b[0m     itemmask[rl\u001b[38;5;241m.\u001b[39mindexer] \u001b[38;5;241m=\u001b[39m \u001b[38;5;241m1\u001b[39m\n\u001b[1;32m   1797\u001b[0m \u001b[38;5;28;01mif\u001b[39;00m \u001b[38;5;129;01mnot\u001b[39;00m itemmask\u001b[38;5;241m.\u001b[39mall():\n",
      "\u001b[0;31mValueError\u001b[0m: could not convert string to float: 'BROOKLYN'"
     ]
    },
    {
     "data": {
      "text/plain": [
       "<Figure size 1000x800 with 0 Axes>"
      ]
     },
     "metadata": {},
     "output_type": "display_data"
    }
   ],
   "source": [
    "# Displaying the correlation matrix\n",
    "plt.figure(figsize=(10,8))\n",
    "sns.heatmap(df.corr(), annot=True, cmap='coolwarm', fmt=\".2f\")\n",
    "plt.title('Correlation Matrix')\n",
    "plt.show()"
   ]
  },
  {
   "cell_type": "code",
   "execution_count": null,
   "id": "46aaaaee-5075-43c4-80cc-cdeb5089be82",
   "metadata": {},
   "outputs": [],
   "source": []
  },
  {
   "cell_type": "markdown",
   "id": "1e7102e9-629a-4594-998d-a9b1e3e8c598",
   "metadata": {},
   "source": [
    "## Borough with the maximum number of crashes reported since 2012"
   ]
  },
  {
   "cell_type": "code",
   "execution_count": 5,
   "id": "878e157a-5f36-410b-bdfb-c8d249da8e32",
   "metadata": {
    "tags": []
   },
   "outputs": [
    {
     "name": "stdout",
     "output_type": "stream",
     "text": [
      "BROOKLYN\n"
     ]
    }
   ],
   "source": [
    "# Filter the DataFrame for rows where the crash date is from 2012 onwards\n",
    "filtered_df = df[df['CRASH DATE_CRASH TIME'] >= '2012-01-01']\n",
    "\n",
    "# Group by the 'BOROUGH' column and count the number of crashes in each borough, ignoring missing values\n",
    "borough_crashes = filtered_df.groupby('BOROUGH').size()\n",
    "\n",
    "# Identify the borough with the highest count\n",
    "highest_crash_borough = borough_crashes.idxmax()\n",
    "highest_crash_borough"
   ]
  },
  {
   "cell_type": "code",
   "execution_count": null,
   "id": "6a3f133c-f087-4fb5-9c85-eaa4e02f0a3e",
   "metadata": {},
   "outputs": [],
   "source": []
  },
  {
   "cell_type": "markdown",
   "id": "9dcc3fa1-abc2-45cf-b608-eb8eb6317f53",
   "metadata": {},
   "source": [
    "## Borough with the maximum number of crashes adjusted for population"
   ]
  },
  {
   "cell_type": "code",
   "execution_count": 11,
   "id": "1a33e116-5ef7-4abf-bd46-9fa339149b6a",
   "metadata": {
    "tags": []
   },
   "outputs": [
    {
     "name": "stdout",
     "output_type": "stream",
     "text": [
      "BOROUGH\n",
      "BRONX            205345\n",
      "BROOKLYN         441026\n",
      "MANHATTAN        313266\n",
      "QUEENS           372457\n",
      "STATEN ISLAND     58297\n",
      "dtype: int64\n",
      "BOROUGH\n",
      "BRONX            0.141932\n",
      "BROOKLYN         0.166522\n",
      "MANHATTAN        0.191216\n",
      "QUEENS           0.159833\n",
      "STATEN ISLAND    0.119668\n",
      "dtype: float64\n",
      "MANHATTAN\n"
     ]
    }
   ],
   "source": [
    "# Define the approximate populations for each borough\n",
    "borough_populations = {\n",
    "    'BRONX': 1446788,\n",
    "    'BROOKLYN': 2648452,\n",
    "    'MANHATTAN': 1638281,\n",
    "    'QUEENS': 2330295,\n",
    "    'STATEN ISLAND': 487155,\n",
    "}\n",
    "\n",
    "# Convert the population dictionary to a Series for easier calculations\n",
    "borough_populations_series = pd.Series(borough_populations)\n",
    "\n",
    "# Filter the DataFrame for rows where the crash date is from 2012 onwards\n",
    "filtered_df = df[df['CRASH DATE_CRASH TIME'] >= '2012-01-01']\n",
    "\n",
    "# Group by the 'BOROUGH' column and count the number of crashes in each borough, ignoring missing values\n",
    "borough_crashes = filtered_df.groupby('BOROUGH').size()\n",
    "print(borough_crashes)\n",
    "# Calculate the crash rate per capita for each borough\n",
    "crash_rate_per_capita = borough_crashes / borough_populations_series\n",
    "print(crash_rate_per_capita)\n",
    "# Identify the borough with the highest crash rate per capita\n",
    "highest_crash_rate_borough = crash_rate_per_capita.idxmax()\n",
    "print(highest_crash_rate_borough)"
   ]
  },
  {
   "cell_type": "code",
   "execution_count": null,
   "id": "84eda735-a495-4795-85f7-d22e421774c2",
   "metadata": {},
   "outputs": [],
   "source": []
  },
  {
   "cell_type": "markdown",
   "id": "ef0c5d5b-e968-4be8-b7b7-865bb3fc23d4",
   "metadata": {},
   "source": [
    "## Analyzing the leading cause of crashes"
   ]
  },
  {
   "cell_type": "code",
   "execution_count": 18,
   "id": "e0b6e9df-992b-418b-b494-e6035afe5a31",
   "metadata": {
    "tags": []
   },
   "outputs": [
    {
     "name": "stdout",
     "output_type": "stream",
     "text": [
      "Driver Inattention/Distraction\n"
     ]
    }
   ],
   "source": [
    "# Define the contributing factor columns in your DataFrame\n",
    "contributing_factor_columns = [\n",
    "    'CONTRIBUTING FACTOR VEHICLE 1',\n",
    "    'CONTRIBUTING FACTOR VEHICLE 2',\n",
    "    'CONTRIBUTING FACTOR VEHICLE 3',\n",
    "    'CONTRIBUTING FACTOR VEHICLE 4',\n",
    "    'CONTRIBUTING FACTOR VEHICLE 5'\n",
    "]\n",
    "\n",
    "# Concatenate the contributing factor columns to create a single series\n",
    "contributing_factors = pd.concat([df[col] for col in contributing_factor_columns])\n",
    "\n",
    "# Filter out 'Unspecified' or NaN values\n",
    "contributing_factors = contributing_factors[contributing_factors.notna() & (contributing_factors != 'Unspecified')]\n",
    "\n",
    "# Count the occurrence of each contributing factor\n",
    "contributing_factor_counts = contributing_factors.value_counts()\n",
    "\n",
    "# Identify the contributing factor with the highest count\n",
    "leading_cause = contributing_factor_counts.idxmax()\n",
    "print(leading_cause)"
   ]
  },
  {
   "cell_type": "code",
   "execution_count": 19,
   "id": "4d0da505-4262-45d4-a64f-6ebd77bed69c",
   "metadata": {
    "tags": []
   },
   "outputs": [
    {
     "data": {
      "text/plain": [
       "0.3041797020985308"
      ]
     },
     "execution_count": 19,
     "metadata": {},
     "output_type": "execute_result"
    }
   ],
   "source": [
    "# Filter out rows where 'CONTRIBUTING FACTOR VEHICLE 1' is 'Unspecified' or NaN\n",
    "specified_factors_df = df[df['CONTRIBUTING FACTOR VEHICLE 1'].notna() & (df['CONTRIBUTING FACTOR VEHICLE 1'] != 'Unspecified')]\n",
    "\n",
    "# Count the occurrence of each contributing factor in 'CONTRIBUTING FACTOR VEHICLE 1'\n",
    "specified_factor_counts = specified_factors_df['CONTRIBUTING FACTOR VEHICLE 1'].value_counts()\n",
    "\n",
    "# Identify the contributing factor with the highest count\n",
    "leading_cause_specified = specified_factor_counts.idxmax()\n",
    "\n",
    "# Calculate the proportion of accidents attributable to this cause\n",
    "proportion_attributable = specified_factor_counts.max() / specified_factor_counts.sum()\n",
    "proportion_attributable"
   ]
  },
  {
   "cell_type": "markdown",
   "id": "1335f127-2b39-460f-ad01-fc21a37b6cb6",
   "metadata": {},
   "source": [
    "## Top 3 causes of crashes "
   ]
  },
  {
   "cell_type": "code",
   "execution_count": 20,
   "id": "a97652c3-fc7d-4cb1-b1e2-f5c561f03380",
   "metadata": {
    "tags": []
   },
   "outputs": [
    {
     "name": "stdout",
     "output_type": "stream",
     "text": [
      "CONTRIBUTING FACTOR VEHICLE 1\n",
      "Driver Inattention/Distraction    401262\n",
      "Failure to Yield Right-of-Way     119166\n",
      "Following Too Closely             107467\n",
      "Name: count, dtype: int64\n",
      "0.4759805664357876\n"
     ]
    }
   ],
   "source": [
    "# Extract the counts of the top 3 contributing factors\n",
    "top_3_factors_counts = specified_factor_counts.head(3)\n",
    "print(top_3_factors_counts)\n",
    "# Sum these counts\n",
    "top_3_factors_sum = top_3_factors_counts.sum()\n",
    "\n",
    "# Divide the sum by the total count of specified contributing factors to get the proportion\n",
    "top_3_proportion = top_3_factors_sum / specified_factor_counts.sum()\n",
    "print(top_3_proportion)"
   ]
  },
  {
   "cell_type": "code",
   "execution_count": null,
   "id": "ac628cb6-04cb-4fc5-bd7f-a4040fefe20a",
   "metadata": {},
   "outputs": [],
   "source": []
  },
  {
   "cell_type": "markdown",
   "id": "af729ee2-786e-4c89-abfd-e3d24e2823f1",
   "metadata": {},
   "source": [
    "## Analyzing fatalities"
   ]
  },
  {
   "cell_type": "code",
   "execution_count": 22,
   "id": "eca5bee3-6ec7-4ac2-98c1-d97267e9104b",
   "metadata": {
    "tags": []
   },
   "outputs": [
    {
     "name": "stdout",
     "output_type": "stream",
     "text": [
      "2804\n"
     ]
    }
   ],
   "source": [
    "# Filter the DataFrame for rows where the crash date is from 2012 onwards\n",
    "filtered_df = df[df['CRASH DATE_CRASH TIME'] >= '2012-01-01']\n",
    "\n",
    "# Filter the rows where the number of persons killed is at least 1\n",
    "fatal_accidents_df = filtered_df[filtered_df['NUMBER OF PERSONS KILLED'] >= 1]\n",
    "\n",
    "# Count the number of such rows to get the total count of accidents involving at least one fatality\n",
    "total_fatal_accidents = len(fatal_accidents_df)\n",
    "print(total_fatal_accidents)"
   ]
  },
  {
   "cell_type": "code",
   "execution_count": null,
   "id": "21b4066e-5d0f-4c42-92ab-5485d4a5b6b3",
   "metadata": {},
   "outputs": [],
   "source": []
  },
  {
   "cell_type": "markdown",
   "id": "529a81c2-4eec-46d5-be60-1ff75d82baf5",
   "metadata": {},
   "source": [
    "## Likelihood of fatal accidents\n",
    "#### On average, out of every 1000 accidents, how many have resulted in at least one person dead?"
   ]
  },
  {
   "cell_type": "code",
   "execution_count": 24,
   "id": "27cd0c11-22cf-4fd4-8a08-4947391358c9",
   "metadata": {
    "tags": []
   },
   "outputs": [
    {
     "name": "stdout",
     "output_type": "stream",
     "text": [
      "1.3893258747079764\n"
     ]
    }
   ],
   "source": [
    "# Find the total number of accidents that have occurred since 2012\n",
    "total_accidents = len(df[df['CRASH DATE_CRASH TIME'] >= '2012-01-01'])\n",
    "\n",
    "# Calculate the ratio of accidents with at least one death to the total number of accidents\n",
    "fatal_accident_ratio = total_fatal_accidents / total_accidents\n",
    "\n",
    "# Multiply this ratio by 1000 to get the average number of fatal accidents per 1000 accidents\n",
    "average_fatal_per_1000 = fatal_accident_ratio * 1000\n",
    "print(average_fatal_per_1000)"
   ]
  },
  {
   "cell_type": "code",
   "execution_count": null,
   "id": "83bc33bb-ba4e-4968-a67b-6fb4b8ba431c",
   "metadata": {},
   "outputs": [],
   "source": []
  },
  {
   "cell_type": "markdown",
   "id": "8ad2d315-425c-44bb-a6ee-33f9941e591c",
   "metadata": {},
   "source": [
    "## Missing data\n",
    "#### What proportion of accidents in the data do not have a Borough code?"
   ]
  },
  {
   "cell_type": "code",
   "execution_count": 25,
   "id": "82ff7c6c-6e89-4f47-b960-2bdcfde66f5d",
   "metadata": {
    "tags": []
   },
   "outputs": [
    {
     "name": "stdout",
     "output_type": "stream",
     "text": [
      "0.3110890897784957\n"
     ]
    }
   ],
   "source": [
    "# Count the total number of accidents in the DataFrame\n",
    "total_accidents = len(df)\n",
    "\n",
    "# Count the number of accidents where the 'BOROUGH' column is NaN or has a missing/invalid value\n",
    "accidents_without_borough = df['BOROUGH'].isna().sum()\n",
    "\n",
    "# Calculate the proportion of accidents without a Borough code\n",
    "proportion_without_borough = accidents_without_borough / total_accidents\n",
    "print(proportion_without_borough)"
   ]
  },
  {
   "cell_type": "code",
   "execution_count": null,
   "id": "0a145e34-c267-4cb5-9c1d-459b9826743d",
   "metadata": {},
   "outputs": [],
   "source": []
  },
  {
   "cell_type": "markdown",
   "id": "54f883ce-64fe-4c77-a4a3-49def210382d",
   "metadata": {},
   "source": [
    "## Which combinations of vehicles have the most number of accidents"
   ]
  },
  {
   "cell_type": "code",
   "execution_count": 26,
   "id": "3402f776-310a-43f3-85a3-746556e59eae",
   "metadata": {
    "tags": []
   },
   "outputs": [
    {
     "name": "stdout",
     "output_type": "stream",
     "text": [
      "VEHICLE TYPE CODE 1     Sedan\n",
      "VEHICLE TYPE CODE 2     Sedan\n",
      "counts                 197944\n",
      "Name: 3948, dtype: object\n"
     ]
    }
   ],
   "source": [
    "# Group the data by 'VEHICLE TYPE CODE 1' and 'VEHICLE TYPE CODE 2'\n",
    "vehicle_combination_groups = df.groupby(['VEHICLE TYPE CODE 1', 'VEHICLE TYPE CODE 2']).size().reset_index(name='counts')\n",
    "\n",
    "# Identify the group with the highest count\n",
    "most_common_combination = vehicle_combination_groups.loc[vehicle_combination_groups['counts'].idxmax()]\n",
    "print(most_common_combination)"
   ]
  },
  {
   "cell_type": "code",
   "execution_count": null,
   "id": "21c659ff-2e5a-47af-b3ea-7f7578cf69f2",
   "metadata": {},
   "outputs": [],
   "source": []
  },
  {
   "cell_type": "markdown",
   "id": "3ca87ac5-5ade-4e1c-aeb8-0704afe6b2ac",
   "metadata": {},
   "source": [
    "***  \n",
    "## Finished"
   ]
  },
  {
   "cell_type": "code",
   "execution_count": null,
   "id": "b9c8b70c-be57-489a-823f-fc1762926532",
   "metadata": {},
   "outputs": [],
   "source": []
  },
  {
   "cell_type": "code",
   "execution_count": null,
   "id": "372cbed9-ce19-4ac7-8cb5-fd4a304f92b2",
   "metadata": {},
   "outputs": [],
   "source": []
  }
 ],
 "metadata": {
  "kernelspec": {
   "display_name": "Python [conda env:mggy8413]",
   "language": "python",
   "name": "conda-env-mggy8413-py"
  },
  "language_info": {
   "codemirror_mode": {
    "name": "ipython",
    "version": 3
   },
   "file_extension": ".py",
   "mimetype": "text/x-python",
   "name": "python",
   "nbconvert_exporter": "python",
   "pygments_lexer": "ipython3",
   "version": "3.10.12"
  }
 },
 "nbformat": 4,
 "nbformat_minor": 5
}
